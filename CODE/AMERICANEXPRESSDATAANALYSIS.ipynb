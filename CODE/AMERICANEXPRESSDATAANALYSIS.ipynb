{
  "nbformat": 4,
  "nbformat_minor": 0,
  "metadata": {
    "colab": {
      "provenance": [],
      "collapsed_sections": [],
      "authorship_tag": "ABX9TyO5kMnDEov5gnln02tQC/aU",
      "include_colab_link": true
    },
    "kernelspec": {
      "name": "python3",
      "display_name": "Python 3"
    },
    "language_info": {
      "name": "python"
    }
  },
  "cells": [
    {
      "cell_type": "markdown",
      "metadata": {
        "id": "view-in-github",
        "colab_type": "text"
      },
      "source": [
        "<a href=\"https://colab.research.google.com/github/sairamharshith/AMERICANEXPRESSDATAANALYSIS/blob/main/CODE/AMERICANEXPRESSDATAANALYSIS.ipynb\" target=\"_parent\"><img src=\"https://colab.research.google.com/assets/colab-badge.svg\" alt=\"Open In Colab\"/></a>"
      ]
    },
    {
      "cell_type": "markdown",
      "source": [
        "# DEEP LEARNING VIA ANN"
      ],
      "metadata": {
        "id": "bqm1-4R8644q"
      }
    },
    {
      "cell_type": "markdown",
      "source": [
        "## IMPORTING LIBRARIES"
      ],
      "metadata": {
        "id": "K1HD9dOB6KS-"
      }
    },
    {
      "cell_type": "code",
      "execution_count": null,
      "metadata": {
        "id": "3qhWHirX14yr"
      },
      "outputs": [],
      "source": [
        "import numpy as np\n",
        "import pandas as pd\n",
        "import tensorflow as tf"
      ]
    },
    {
      "cell_type": "code",
      "source": [
        "tf.__version__"
      ],
      "metadata": {
        "colab": {
          "base_uri": "https://localhost:8080/",
          "height": 36
        },
        "id": "s0AAVBZa2AYo",
        "outputId": "d3cc381d-f6b9-4a45-f10e-64adf242f4d8"
      },
      "execution_count": null,
      "outputs": [
        {
          "output_type": "execute_result",
          "data": {
            "text/plain": [
              "'2.8.2'"
            ],
            "application/vnd.google.colaboratory.intrinsic+json": {
              "type": "string"
            }
          },
          "metadata": {},
          "execution_count": 212
        }
      ]
    },
    {
      "cell_type": "markdown",
      "source": [
        "## IMPORTING DATASET"
      ],
      "metadata": {
        "id": "EGEVtkkK6QcB"
      }
    },
    {
      "cell_type": "code",
      "source": [
        "data_set = pd.read_csv('CREDIT.csv')\n",
        "x = data_set.iloc[0:9927, :-1].values\n",
        "y = data_set.iloc[0:9927, -1].values\n"
      ],
      "metadata": {
        "id": "BC96hlMc2E0R"
      },
      "execution_count": null,
      "outputs": []
    },
    {
      "cell_type": "code",
      "source": [
        "print(x)"
      ],
      "metadata": {
        "colab": {
          "base_uri": "https://localhost:8080/"
        },
        "id": "wIiUxnF52q4M",
        "outputId": "97b72b9f-ca59-48aa-e8bb-4c2749616a6e"
      },
      "execution_count": null,
      "outputs": [
        {
          "output_type": "stream",
          "name": "stdout",
          "text": [
            "[[553.0 'Delhi' 'Female' ... 4.0 1.0 274150.0]\n",
            " [447.0 'Bengaluru' 'Male' ... 4.0 1.0 519360.0]\n",
            " [501.0 'Delhi' 'Female' ... 4.0 1.0 545501.0]\n",
            " ...\n",
            " [627.0 'Mumbai' 'Female' ... 4.0 0.0 494067.0]\n",
            " [600.0 'Bengaluru' 'Female' ... 2.0 1.0 109375.0]\n",
            " [553.0 'Delhi' 'Male' ... 4.0 1.0 180031.0]]\n"
          ]
        }
      ]
    },
    {
      "cell_type": "code",
      "source": [
        "print(y)"
      ],
      "metadata": {
        "colab": {
          "base_uri": "https://localhost:8080/"
        },
        "id": "eHvAfTrJ2sJ6",
        "outputId": "d6aa0071-e534-4cab-964c-fbe3f21352bc"
      },
      "execution_count": null,
      "outputs": [
        {
          "output_type": "stream",
          "name": "stdout",
          "text": [
            "[0. 0. 0. ... 0. 1. 0.]\n"
          ]
        }
      ]
    },
    {
      "cell_type": "code",
      "source": [],
      "metadata": {
        "id": "6rhll1I-Ii45"
      },
      "execution_count": null,
      "outputs": []
    },
    {
      "cell_type": "markdown",
      "source": [
        "## ENCODING CATEGORICAL DATA"
      ],
      "metadata": {
        "id": "xgUz_IkR6WFO"
      }
    },
    {
      "cell_type": "markdown",
      "source": [
        "### GENDER COLUMN: LABELENCODING"
      ],
      "metadata": {
        "id": "xbgF_coQ6esw"
      }
    },
    {
      "cell_type": "code",
      "source": [
        "from sklearn.preprocessing import LabelEncoder\n",
        "le = LabelEncoder()\n",
        "x[:, 2] = le.fit_transform(x[:, 2])"
      ],
      "metadata": {
        "id": "84IRMGRV2t0A"
      },
      "execution_count": null,
      "outputs": []
    },
    {
      "cell_type": "code",
      "source": [
        "print(x)"
      ],
      "metadata": {
        "colab": {
          "base_uri": "https://localhost:8080/"
        },
        "id": "Mf_5H2r-3LRV",
        "outputId": "6b0b6611-9577-48c9-d485-22a486747755"
      },
      "execution_count": null,
      "outputs": [
        {
          "output_type": "stream",
          "name": "stdout",
          "text": [
            "[[553.0 'Delhi' 0 ... 4.0 1.0 274150.0]\n",
            " [447.0 'Bengaluru' 1 ... 4.0 1.0 519360.0]\n",
            " [501.0 'Delhi' 0 ... 4.0 1.0 545501.0]\n",
            " ...\n",
            " [627.0 'Mumbai' 0 ... 4.0 0.0 494067.0]\n",
            " [600.0 'Bengaluru' 0 ... 2.0 1.0 109375.0]\n",
            " [553.0 'Delhi' 1 ... 4.0 1.0 180031.0]]\n"
          ]
        }
      ]
    },
    {
      "cell_type": "markdown",
      "source": [
        "### GEOGRAPHY COLUMN: ONEHOTENCODING"
      ],
      "metadata": {
        "id": "1jgM7kAj6jpC"
      }
    },
    {
      "cell_type": "code",
      "source": [
        "from sklearn.compose import ColumnTransformer\n",
        "from sklearn.preprocessing import OneHotEncoder\n",
        "ct = ColumnTransformer(transformers =[('encoder', OneHotEncoder(), [1])], remainder = 'passthrough')\n",
        "x = np.array(ct.fit_transform(x))"
      ],
      "metadata": {
        "id": "UhNcrLt_3Mdt"
      },
      "execution_count": null,
      "outputs": []
    },
    {
      "cell_type": "code",
      "source": [
        "print(x)"
      ],
      "metadata": {
        "colab": {
          "base_uri": "https://localhost:8080/"
        },
        "id": "ymh3YMGS4Kh0",
        "outputId": "0d34e3cc-a91e-4f88-ec60-1a59b0a60cf6"
      },
      "execution_count": null,
      "outputs": [
        {
          "output_type": "stream",
          "name": "stdout",
          "text": [
            "[[0.0 1.0 0.0 ... 4.0 1.0 274150.0]\n",
            " [1.0 0.0 0.0 ... 4.0 1.0 519360.0]\n",
            " [0.0 1.0 0.0 ... 4.0 1.0 545501.0]\n",
            " ...\n",
            " [0.0 0.0 1.0 ... 4.0 0.0 494067.0]\n",
            " [1.0 0.0 0.0 ... 2.0 1.0 109375.0]\n",
            " [0.0 1.0 0.0 ... 4.0 1.0 180031.0]]\n"
          ]
        }
      ]
    },
    {
      "cell_type": "markdown",
      "source": [
        "## SPLITTING INTO TRAIN AND TEST DATASETS"
      ],
      "metadata": {
        "id": "JQSl3-Yq6x0c"
      }
    },
    {
      "cell_type": "code",
      "source": [
        "from sklearn.model_selection import train_test_split\n",
        "x_train, x_test, y_train, y_test = train_test_split(x, y, test_size = 0.2, random_state = 0)"
      ],
      "metadata": {
        "id": "0aPwgn3x4LjZ"
      },
      "execution_count": null,
      "outputs": []
    },
    {
      "cell_type": "code",
      "source": [
        "print(x_train)"
      ],
      "metadata": {
        "colab": {
          "base_uri": "https://localhost:8080/"
        },
        "id": "-Ct4bxtu4oSM",
        "outputId": "ff7f3742-778e-4f24-d6fa-765b852d96ca"
      },
      "execution_count": null,
      "outputs": [
        {
          "output_type": "stream",
          "name": "stdout",
          "text": [
            "[[1.0 0.0 0.0 ... 4.0 1.0 264201.0]\n",
            " [0.0 0.0 1.0 ... 4.0 1.0 328575.0]\n",
            " [1.0 0.0 0.0 ... 2.0 0.0 168958.0]\n",
            " ...\n",
            " [0.0 0.0 1.0 ... 2.0 1.0 248115.0]\n",
            " [0.0 0.0 1.0 ... 2.0 1.0 499155.0]\n",
            " [1.0 0.0 0.0 ... 2.0 0.0 10454.0]]\n"
          ]
        }
      ]
    },
    {
      "cell_type": "code",
      "source": [
        "print(y_train)"
      ],
      "metadata": {
        "colab": {
          "base_uri": "https://localhost:8080/"
        },
        "id": "KYPym7NrEC7c",
        "outputId": "da3ebc8f-47d9-43eb-ff14-49e7ce053d06"
      },
      "execution_count": null,
      "outputs": [
        {
          "output_type": "stream",
          "name": "stdout",
          "text": [
            "[0. 0. 0. ... 1. 1. 0.]\n"
          ]
        }
      ]
    },
    {
      "cell_type": "markdown",
      "source": [
        "## FEATURE SCALING"
      ],
      "metadata": {
        "id": "9x5BL2Q861mC"
      }
    },
    {
      "cell_type": "code",
      "source": [
        "from sklearn.preprocessing import StandardScaler\n",
        "sc = StandardScaler()\n",
        "x_train = sc.fit_transform(x_train)\n",
        "x_test = sc.transform(x_test)"
      ],
      "metadata": {
        "id": "cTTTv3_q4qX0"
      },
      "execution_count": null,
      "outputs": []
    },
    {
      "cell_type": "code",
      "source": [
        "print(x_train)"
      ],
      "metadata": {
        "colab": {
          "base_uri": "https://localhost:8080/"
        },
        "id": "Qd6-5PSa5Lbc",
        "outputId": "9a91bf39-fc1b-4af2-ca96-cae4473719d8"
      },
      "execution_count": null,
      "outputs": [
        {
          "output_type": "stream",
          "name": "stdout",
          "text": [
            "[[ 0.99434917 -0.57109746 -0.5792406  ...  0.90580857  0.65086753\n",
            "  -0.06854301]\n",
            " [-1.00568294 -0.57109746  1.72639831 ...  0.90580857  0.65086753\n",
            "   0.34018176]\n",
            " [ 0.99434917 -0.57109746 -0.5792406  ... -0.951175   -1.53641095\n",
            "  -0.67326188]\n",
            " ...\n",
            " [-1.00568294 -0.57109746  1.72639831 ... -0.951175    0.65086753\n",
            "  -0.17067658]\n",
            " [-1.00568294 -0.57109746  1.72639831 ... -0.951175    0.65086753\n",
            "   1.4232319 ]\n",
            " [ 0.99434917 -0.57109746 -0.5792406  ... -0.951175   -1.53641095\n",
            "  -1.67963883]]\n"
          ]
        }
      ]
    },
    {
      "cell_type": "code",
      "source": [
        "print(x_test)"
      ],
      "metadata": {
        "colab": {
          "base_uri": "https://localhost:8080/"
        },
        "id": "mmNLYLfi5NpK",
        "outputId": "2d685a48-b168-4f84-bfc6-5e4051419c5e"
      },
      "execution_count": null,
      "outputs": [
        {
          "output_type": "stream",
          "name": "stdout",
          "text": [
            "[[-1.00568294 -0.57109746  1.72639831 ... -0.951175    0.65086753\n",
            "   1.44738434]\n",
            " [-1.00568294 -0.57109746  1.72639831 ...  0.90580857  0.65086753\n",
            "  -1.23191715]\n",
            " [ 0.99434917 -0.57109746 -0.5792406  ...  0.90580857  0.65086753\n",
            "  -1.72970878]\n",
            " ...\n",
            " [ 0.99434917 -0.57109746 -0.5792406  ...  0.90580857 -1.53641095\n",
            "   0.12692412]\n",
            " [ 0.99434917 -0.57109746 -0.5792406  ... -0.951175   -1.53641095\n",
            "  -0.59717281]\n",
            " [ 0.99434917 -0.57109746 -0.5792406  ... -0.951175    0.65086753\n",
            "   1.67285788]]\n"
          ]
        }
      ]
    },
    {
      "cell_type": "markdown",
      "source": [
        "# ANN"
      ],
      "metadata": {
        "id": "336w5Wdp76w4"
      }
    },
    {
      "cell_type": "markdown",
      "source": [
        "## INITIALIZATION"
      ],
      "metadata": {
        "id": "H-TLsGIb8IaS"
      }
    },
    {
      "cell_type": "code",
      "source": [
        "ann = tf.keras.models.Sequential()"
      ],
      "metadata": {
        "id": "Ow4BnOVA74uT"
      },
      "execution_count": null,
      "outputs": []
    },
    {
      "cell_type": "markdown",
      "source": [
        "## ADDING INPUT LAYER AND FIRST HIDDEN LAYER "
      ],
      "metadata": {
        "id": "1XfRRfI88R6d"
      }
    },
    {
      "cell_type": "code",
      "source": [
        "ann.add(tf.keras.layers.Dense(units =6, activation = 'relu'))"
      ],
      "metadata": {
        "id": "X21z6yTo8FS-"
      },
      "execution_count": null,
      "outputs": []
    },
    {
      "cell_type": "markdown",
      "source": [
        "## ADDING SECOND HIDDEN LAYER"
      ],
      "metadata": {
        "id": "qjm4ANZU_kS8"
      }
    },
    {
      "cell_type": "code",
      "source": [
        "ann.add(tf.keras.layers.Dense(units =6, activation = 'relu'))"
      ],
      "metadata": {
        "id": "6wvg09MN_o50"
      },
      "execution_count": null,
      "outputs": []
    },
    {
      "cell_type": "markdown",
      "source": [
        "## ADDING OUTPUT LAYER"
      ],
      "metadata": {
        "id": "g_gO8HI9_vvM"
      }
    },
    {
      "cell_type": "code",
      "source": [
        "ann.add(tf.keras.layers.Dense(units =1, activation = 'sigmoid'))"
      ],
      "metadata": {
        "id": "UbT125vP_zge"
      },
      "execution_count": null,
      "outputs": []
    },
    {
      "cell_type": "markdown",
      "source": [
        "# ANN TRAINING"
      ],
      "metadata": {
        "id": "leAtepnq_-n8"
      }
    },
    {
      "cell_type": "markdown",
      "source": [
        "## ANN COMPILING"
      ],
      "metadata": {
        "id": "CRNwGYYFAJF-"
      }
    },
    {
      "cell_type": "code",
      "source": [
        "ann.compile(optimizer = 'adam',loss = 'binary_crossentropy', metrics = ['accuracy'] )"
      ],
      "metadata": {
        "id": "mKepQJS1AP1O"
      },
      "execution_count": null,
      "outputs": []
    },
    {
      "cell_type": "markdown",
      "source": [
        "## TRAINING ON TRAINING DATASET"
      ],
      "metadata": {
        "id": "GA0jx7O_AoFX"
      }
    },
    {
      "cell_type": "code",
      "source": [
        "ann.fit(x_train, y_train, batch_size = 32, epochs= 120)"
      ],
      "metadata": {
        "colab": {
          "base_uri": "https://localhost:8080/"
        },
        "id": "A1uf5EDYAnK3",
        "outputId": "eaf50a69-dc41-41e3-a18e-ea7d120625b4"
      },
      "execution_count": null,
      "outputs": [
        {
          "output_type": "stream",
          "name": "stdout",
          "text": [
            "Epoch 1/120\n",
            "249/249 [==============================] - 1s 2ms/step - loss: 0.5376 - accuracy: 0.7757\n",
            "Epoch 2/120\n",
            "249/249 [==============================] - 0s 2ms/step - loss: 0.4699 - accuracy: 0.7965\n",
            "Epoch 3/120\n",
            "249/249 [==============================] - 0s 2ms/step - loss: 0.4548 - accuracy: 0.7964\n",
            "Epoch 4/120\n",
            "249/249 [==============================] - 0s 2ms/step - loss: 0.4466 - accuracy: 0.7957\n",
            "Epoch 5/120\n",
            "249/249 [==============================] - 0s 2ms/step - loss: 0.4411 - accuracy: 0.7968\n",
            "Epoch 6/120\n",
            "249/249 [==============================] - 0s 2ms/step - loss: 0.4372 - accuracy: 0.8007\n",
            "Epoch 7/120\n",
            "249/249 [==============================] - 0s 2ms/step - loss: 0.4345 - accuracy: 0.7993\n",
            "Epoch 8/120\n",
            "249/249 [==============================] - 0s 2ms/step - loss: 0.4321 - accuracy: 0.8005\n",
            "Epoch 9/120\n",
            "249/249 [==============================] - 0s 2ms/step - loss: 0.4299 - accuracy: 0.8036\n",
            "Epoch 10/120\n",
            "249/249 [==============================] - 0s 2ms/step - loss: 0.4282 - accuracy: 0.8072\n",
            "Epoch 11/120\n",
            "249/249 [==============================] - 0s 2ms/step - loss: 0.4265 - accuracy: 0.8086\n",
            "Epoch 12/120\n",
            "249/249 [==============================] - 0s 2ms/step - loss: 0.4250 - accuracy: 0.8101\n",
            "Epoch 13/120\n",
            "249/249 [==============================] - 0s 2ms/step - loss: 0.4234 - accuracy: 0.8097\n",
            "Epoch 14/120\n",
            "249/249 [==============================] - 0s 2ms/step - loss: 0.4220 - accuracy: 0.8127\n",
            "Epoch 15/120\n",
            "249/249 [==============================] - 0s 2ms/step - loss: 0.4204 - accuracy: 0.8127\n",
            "Epoch 16/120\n",
            "249/249 [==============================] - 0s 2ms/step - loss: 0.4189 - accuracy: 0.8135\n",
            "Epoch 17/120\n",
            "249/249 [==============================] - 0s 2ms/step - loss: 0.4180 - accuracy: 0.8149\n",
            "Epoch 18/120\n",
            "249/249 [==============================] - 0s 2ms/step - loss: 0.4170 - accuracy: 0.8155\n",
            "Epoch 19/120\n",
            "249/249 [==============================] - 0s 2ms/step - loss: 0.4161 - accuracy: 0.8150\n",
            "Epoch 20/120\n",
            "249/249 [==============================] - 0s 2ms/step - loss: 0.4152 - accuracy: 0.8188\n",
            "Epoch 21/120\n",
            "249/249 [==============================] - 0s 2ms/step - loss: 0.4143 - accuracy: 0.8187\n",
            "Epoch 22/120\n",
            "249/249 [==============================] - 0s 2ms/step - loss: 0.4132 - accuracy: 0.8208\n",
            "Epoch 23/120\n",
            "249/249 [==============================] - 0s 2ms/step - loss: 0.4122 - accuracy: 0.8227\n",
            "Epoch 24/120\n",
            "249/249 [==============================] - 0s 2ms/step - loss: 0.4104 - accuracy: 0.8228\n",
            "Epoch 25/120\n",
            "249/249 [==============================] - 0s 2ms/step - loss: 0.4090 - accuracy: 0.8222\n",
            "Epoch 26/120\n",
            "249/249 [==============================] - 0s 2ms/step - loss: 0.4076 - accuracy: 0.8229\n",
            "Epoch 27/120\n",
            "249/249 [==============================] - 0s 2ms/step - loss: 0.4060 - accuracy: 0.8236\n",
            "Epoch 28/120\n",
            "249/249 [==============================] - 0s 2ms/step - loss: 0.4041 - accuracy: 0.8226\n",
            "Epoch 29/120\n",
            "249/249 [==============================] - 0s 2ms/step - loss: 0.4021 - accuracy: 0.8243\n",
            "Epoch 30/120\n",
            "249/249 [==============================] - 0s 2ms/step - loss: 0.3996 - accuracy: 0.8250\n",
            "Epoch 31/120\n",
            "249/249 [==============================] - 0s 2ms/step - loss: 0.3970 - accuracy: 0.8263\n",
            "Epoch 32/120\n",
            "249/249 [==============================] - 0s 2ms/step - loss: 0.3950 - accuracy: 0.8274\n",
            "Epoch 33/120\n",
            "249/249 [==============================] - 0s 2ms/step - loss: 0.3925 - accuracy: 0.8285\n",
            "Epoch 34/120\n",
            "249/249 [==============================] - 0s 2ms/step - loss: 0.3901 - accuracy: 0.8287\n",
            "Epoch 35/120\n",
            "249/249 [==============================] - 0s 2ms/step - loss: 0.3881 - accuracy: 0.8311\n",
            "Epoch 36/120\n",
            "249/249 [==============================] - 0s 2ms/step - loss: 0.3861 - accuracy: 0.8325\n",
            "Epoch 37/120\n",
            "249/249 [==============================] - 0s 2ms/step - loss: 0.3844 - accuracy: 0.8342\n",
            "Epoch 38/120\n",
            "249/249 [==============================] - 0s 2ms/step - loss: 0.3825 - accuracy: 0.8314\n",
            "Epoch 39/120\n",
            "249/249 [==============================] - 0s 2ms/step - loss: 0.3806 - accuracy: 0.8339\n",
            "Epoch 40/120\n",
            "249/249 [==============================] - 0s 2ms/step - loss: 0.3791 - accuracy: 0.8340\n",
            "Epoch 41/120\n",
            "249/249 [==============================] - 0s 2ms/step - loss: 0.3770 - accuracy: 0.8362\n",
            "Epoch 42/120\n",
            "249/249 [==============================] - 0s 2ms/step - loss: 0.3752 - accuracy: 0.8379\n",
            "Epoch 43/120\n",
            "249/249 [==============================] - 0s 2ms/step - loss: 0.3734 - accuracy: 0.8394\n",
            "Epoch 44/120\n",
            "249/249 [==============================] - 0s 2ms/step - loss: 0.3711 - accuracy: 0.8417\n",
            "Epoch 45/120\n",
            "249/249 [==============================] - 0s 2ms/step - loss: 0.3690 - accuracy: 0.8426\n",
            "Epoch 46/120\n",
            "249/249 [==============================] - 0s 2ms/step - loss: 0.3675 - accuracy: 0.8440\n",
            "Epoch 47/120\n",
            "249/249 [==============================] - 0s 2ms/step - loss: 0.3656 - accuracy: 0.8435\n",
            "Epoch 48/120\n",
            "249/249 [==============================] - 0s 2ms/step - loss: 0.3645 - accuracy: 0.8441\n",
            "Epoch 49/120\n",
            "249/249 [==============================] - 0s 2ms/step - loss: 0.3632 - accuracy: 0.8452\n",
            "Epoch 50/120\n",
            "249/249 [==============================] - 0s 2ms/step - loss: 0.3622 - accuracy: 0.8456\n",
            "Epoch 51/120\n",
            "249/249 [==============================] - 0s 2ms/step - loss: 0.3609 - accuracy: 0.8455\n",
            "Epoch 52/120\n",
            "249/249 [==============================] - 0s 2ms/step - loss: 0.3604 - accuracy: 0.8495\n",
            "Epoch 53/120\n",
            "249/249 [==============================] - 0s 2ms/step - loss: 0.3593 - accuracy: 0.8466\n",
            "Epoch 54/120\n",
            "249/249 [==============================] - 0s 2ms/step - loss: 0.3586 - accuracy: 0.8479\n",
            "Epoch 55/120\n",
            "249/249 [==============================] - 0s 2ms/step - loss: 0.3581 - accuracy: 0.8494\n",
            "Epoch 56/120\n",
            "249/249 [==============================] - 0s 2ms/step - loss: 0.3572 - accuracy: 0.8481\n",
            "Epoch 57/120\n",
            "249/249 [==============================] - 0s 2ms/step - loss: 0.3570 - accuracy: 0.8491\n",
            "Epoch 58/120\n",
            "249/249 [==============================] - 0s 2ms/step - loss: 0.3563 - accuracy: 0.8489\n",
            "Epoch 59/120\n",
            "249/249 [==============================] - 0s 2ms/step - loss: 0.3560 - accuracy: 0.8480\n",
            "Epoch 60/120\n",
            "249/249 [==============================] - 0s 2ms/step - loss: 0.3556 - accuracy: 0.8488\n",
            "Epoch 61/120\n",
            "249/249 [==============================] - 0s 2ms/step - loss: 0.3551 - accuracy: 0.8499\n",
            "Epoch 62/120\n",
            "249/249 [==============================] - 0s 2ms/step - loss: 0.3548 - accuracy: 0.8491\n",
            "Epoch 63/120\n",
            "249/249 [==============================] - 0s 2ms/step - loss: 0.3547 - accuracy: 0.8494\n",
            "Epoch 64/120\n",
            "249/249 [==============================] - 0s 2ms/step - loss: 0.3544 - accuracy: 0.8478\n",
            "Epoch 65/120\n",
            "249/249 [==============================] - 0s 2ms/step - loss: 0.3539 - accuracy: 0.8499\n",
            "Epoch 66/120\n",
            "249/249 [==============================] - 0s 2ms/step - loss: 0.3536 - accuracy: 0.8476\n",
            "Epoch 67/120\n",
            "249/249 [==============================] - 0s 2ms/step - loss: 0.3534 - accuracy: 0.8495\n",
            "Epoch 68/120\n",
            "249/249 [==============================] - 0s 2ms/step - loss: 0.3529 - accuracy: 0.8500\n",
            "Epoch 69/120\n",
            "249/249 [==============================] - 0s 2ms/step - loss: 0.3528 - accuracy: 0.8476\n",
            "Epoch 70/120\n",
            "249/249 [==============================] - 0s 2ms/step - loss: 0.3526 - accuracy: 0.8498\n",
            "Epoch 71/120\n",
            "249/249 [==============================] - 0s 2ms/step - loss: 0.3523 - accuracy: 0.8505\n",
            "Epoch 72/120\n",
            "249/249 [==============================] - 0s 2ms/step - loss: 0.3525 - accuracy: 0.8515\n",
            "Epoch 73/120\n",
            "249/249 [==============================] - 0s 2ms/step - loss: 0.3521 - accuracy: 0.8478\n",
            "Epoch 74/120\n",
            "249/249 [==============================] - 0s 2ms/step - loss: 0.3518 - accuracy: 0.8506\n",
            "Epoch 75/120\n",
            "249/249 [==============================] - 0s 2ms/step - loss: 0.3514 - accuracy: 0.8494\n",
            "Epoch 76/120\n",
            "249/249 [==============================] - 1s 3ms/step - loss: 0.3509 - accuracy: 0.8498\n",
            "Epoch 77/120\n",
            "249/249 [==============================] - 1s 5ms/step - loss: 0.3511 - accuracy: 0.8508\n",
            "Epoch 78/120\n",
            "249/249 [==============================] - 1s 3ms/step - loss: 0.3508 - accuracy: 0.8495\n",
            "Epoch 79/120\n",
            "249/249 [==============================] - 1s 6ms/step - loss: 0.3512 - accuracy: 0.8485\n",
            "Epoch 80/120\n",
            "249/249 [==============================] - 0s 2ms/step - loss: 0.3507 - accuracy: 0.8490\n",
            "Epoch 81/120\n",
            "249/249 [==============================] - 0s 2ms/step - loss: 0.3508 - accuracy: 0.8495\n",
            "Epoch 82/120\n",
            "249/249 [==============================] - 0s 2ms/step - loss: 0.3508 - accuracy: 0.8500\n",
            "Epoch 83/120\n",
            "249/249 [==============================] - 0s 2ms/step - loss: 0.3503 - accuracy: 0.8506\n",
            "Epoch 84/120\n",
            "249/249 [==============================] - 0s 2ms/step - loss: 0.3502 - accuracy: 0.8503\n",
            "Epoch 85/120\n",
            "249/249 [==============================] - 0s 2ms/step - loss: 0.3504 - accuracy: 0.8501\n",
            "Epoch 86/120\n",
            "249/249 [==============================] - 0s 2ms/step - loss: 0.3503 - accuracy: 0.8501\n",
            "Epoch 87/120\n",
            "249/249 [==============================] - 0s 2ms/step - loss: 0.3501 - accuracy: 0.8517\n",
            "Epoch 88/120\n",
            "249/249 [==============================] - 0s 2ms/step - loss: 0.3502 - accuracy: 0.8495\n",
            "Epoch 89/120\n",
            "249/249 [==============================] - 0s 2ms/step - loss: 0.3504 - accuracy: 0.8479\n",
            "Epoch 90/120\n",
            "249/249 [==============================] - 0s 2ms/step - loss: 0.3502 - accuracy: 0.8500\n",
            "Epoch 91/120\n",
            "249/249 [==============================] - 0s 2ms/step - loss: 0.3497 - accuracy: 0.8501\n",
            "Epoch 92/120\n",
            "249/249 [==============================] - 0s 2ms/step - loss: 0.3496 - accuracy: 0.8514\n",
            "Epoch 93/120\n",
            "249/249 [==============================] - 0s 2ms/step - loss: 0.3502 - accuracy: 0.8495\n",
            "Epoch 94/120\n",
            "249/249 [==============================] - 0s 2ms/step - loss: 0.3498 - accuracy: 0.8498\n",
            "Epoch 95/120\n",
            "249/249 [==============================] - 0s 2ms/step - loss: 0.3499 - accuracy: 0.8505\n",
            "Epoch 96/120\n",
            "249/249 [==============================] - 0s 2ms/step - loss: 0.3493 - accuracy: 0.8512\n",
            "Epoch 97/120\n",
            "249/249 [==============================] - 0s 2ms/step - loss: 0.3497 - accuracy: 0.8503\n",
            "Epoch 98/120\n",
            "249/249 [==============================] - 0s 2ms/step - loss: 0.3498 - accuracy: 0.8508\n",
            "Epoch 99/120\n",
            "249/249 [==============================] - 0s 2ms/step - loss: 0.3495 - accuracy: 0.8509\n",
            "Epoch 100/120\n",
            "249/249 [==============================] - 0s 2ms/step - loss: 0.3495 - accuracy: 0.8520\n",
            "Epoch 101/120\n",
            "249/249 [==============================] - 0s 2ms/step - loss: 0.3495 - accuracy: 0.8506\n",
            "Epoch 102/120\n",
            "249/249 [==============================] - 0s 2ms/step - loss: 0.3492 - accuracy: 0.8505\n",
            "Epoch 103/120\n",
            "249/249 [==============================] - 0s 2ms/step - loss: 0.3491 - accuracy: 0.8510\n",
            "Epoch 104/120\n",
            "249/249 [==============================] - 0s 2ms/step - loss: 0.3496 - accuracy: 0.8508\n",
            "Epoch 105/120\n",
            "249/249 [==============================] - 0s 2ms/step - loss: 0.3493 - accuracy: 0.8494\n",
            "Epoch 106/120\n",
            "249/249 [==============================] - 0s 2ms/step - loss: 0.3494 - accuracy: 0.8500\n",
            "Epoch 107/120\n",
            "249/249 [==============================] - 0s 2ms/step - loss: 0.3500 - accuracy: 0.8498\n",
            "Epoch 108/120\n",
            "249/249 [==============================] - 0s 2ms/step - loss: 0.3491 - accuracy: 0.8504\n",
            "Epoch 109/120\n",
            "249/249 [==============================] - 0s 2ms/step - loss: 0.3492 - accuracy: 0.8510\n",
            "Epoch 110/120\n",
            "249/249 [==============================] - 0s 2ms/step - loss: 0.3490 - accuracy: 0.8503\n",
            "Epoch 111/120\n",
            "249/249 [==============================] - 0s 2ms/step - loss: 0.3489 - accuracy: 0.8493\n",
            "Epoch 112/120\n",
            "249/249 [==============================] - 0s 2ms/step - loss: 0.3486 - accuracy: 0.8512\n",
            "Epoch 113/120\n",
            "249/249 [==============================] - 0s 2ms/step - loss: 0.3489 - accuracy: 0.8503\n",
            "Epoch 114/120\n",
            "249/249 [==============================] - 0s 2ms/step - loss: 0.3488 - accuracy: 0.8491\n",
            "Epoch 115/120\n",
            "249/249 [==============================] - 0s 2ms/step - loss: 0.3487 - accuracy: 0.8513\n",
            "Epoch 116/120\n",
            "249/249 [==============================] - 0s 2ms/step - loss: 0.3488 - accuracy: 0.8506\n",
            "Epoch 117/120\n",
            "249/249 [==============================] - 0s 2ms/step - loss: 0.3486 - accuracy: 0.8510\n",
            "Epoch 118/120\n",
            "249/249 [==============================] - 0s 2ms/step - loss: 0.3483 - accuracy: 0.8512\n",
            "Epoch 119/120\n",
            "249/249 [==============================] - 0s 2ms/step - loss: 0.3489 - accuracy: 0.8509\n",
            "Epoch 120/120\n",
            "249/249 [==============================] - 0s 2ms/step - loss: 0.3487 - accuracy: 0.8500\n"
          ]
        },
        {
          "output_type": "execute_result",
          "data": {
            "text/plain": [
              "<keras.callbacks.History at 0x7fb0ae14d450>"
            ]
          },
          "metadata": {},
          "execution_count": 231
        }
      ]
    },
    {
      "cell_type": "markdown",
      "source": [
        "# PREDICTIONS"
      ],
      "metadata": {
        "id": "U5iRBMQWMCHy"
      }
    },
    {
      "cell_type": "markdown",
      "source": [
        "## SINGLE PREDICTION"
      ],
      "metadata": {
        "id": "cmMs0qqdMICh"
      }
    },
    {
      "cell_type": "code",
      "source": [
        "print(ann.predict(sc.transform([[0.0, 1.0, 0.0, 501, 0, 32, 2, 0.0, 4, 1, 545501]]))> 0.5)"
      ],
      "metadata": {
        "colab": {
          "base_uri": "https://localhost:8080/"
        },
        "id": "ESC-9pAWCwZi",
        "outputId": "bfca310f-9d4e-4209-f185-13705b9e29b7"
      },
      "execution_count": null,
      "outputs": [
        {
          "output_type": "stream",
          "name": "stdout",
          "text": [
            "[[False]]\n"
          ]
        }
      ]
    },
    {
      "cell_type": "markdown",
      "source": [
        "## PREDICTION ON TESTSET"
      ],
      "metadata": {
        "id": "PMj4q7IoML5H"
      }
    },
    {
      "cell_type": "code",
      "source": [
        "y_pred = ann.predict(x_test)\n",
        "y_pred = (y_pred > 0.5)\n",
        "print(np.concatenate((y_pred.reshape(len(y_pred),1), y_test.reshape(len(y_test),1)),1))\n"
      ],
      "metadata": {
        "colab": {
          "base_uri": "https://localhost:8080/"
        },
        "id": "Z8OqQ8zKL_Yn",
        "outputId": "41e6921b-bb67-4dd0-e784-ca9fd7a6b3a6"
      },
      "execution_count": null,
      "outputs": [
        {
          "output_type": "stream",
          "name": "stdout",
          "text": [
            "[[0. 1.]\n",
            " [0. 0.]\n",
            " [0. 0.]\n",
            " ...\n",
            " [0. 1.]\n",
            " [0. 0.]\n",
            " [1. 1.]]\n"
          ]
        }
      ]
    },
    {
      "cell_type": "code",
      "source": [
        "from sklearn.metrics import confusion_matrix, accuracy_score\n",
        "cm = confusion_matrix(y_test, y_pred)\n",
        "print(cm)\n",
        "accuracy_score(y_test, y_pred)\n"
      ],
      "metadata": {
        "colab": {
          "base_uri": "https://localhost:8080/"
        },
        "id": "4epGfMIjM-dC",
        "outputId": "df98be51-ad8e-4912-d7a9-63b6ef7841be"
      },
      "execution_count": null,
      "outputs": [
        {
          "output_type": "stream",
          "name": "stdout",
          "text": [
            "[[1514   59]\n",
            " [ 220  193]]\n"
          ]
        },
        {
          "output_type": "execute_result",
          "data": {
            "text/plain": [
              "0.8595166163141994"
            ]
          },
          "metadata": {},
          "execution_count": 234
        }
      ]
    },
    {
      "cell_type": "code",
      "source": [],
      "metadata": {
        "id": "LxrLjj33N6Qf"
      },
      "execution_count": null,
      "outputs": []
    }
  ]
}